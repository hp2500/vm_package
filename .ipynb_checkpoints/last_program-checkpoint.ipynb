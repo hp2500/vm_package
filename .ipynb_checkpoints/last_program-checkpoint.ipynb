{
 "cells": [
  {
   "cell_type": "markdown",
   "id": "95cbe48f",
   "metadata": {},
   "source": [
    "# Import function "
   ]
  },
  {
   "cell_type": "code",
   "execution_count": 226,
   "id": "f9f05d2f",
   "metadata": {},
   "outputs": [],
   "source": [
    "from virtual_machine.virtual_machine import calc"
   ]
  },
  {
   "cell_type": "markdown",
   "id": "453f1d3f",
   "metadata": {},
   "source": [
    "# Final Program"
   ]
  },
  {
   "cell_type": "code",
   "execution_count": 227,
   "id": "e2b8f0a6",
   "metadata": {},
   "outputs": [
    {
     "name": "stdout",
     "output_type": "stream",
     "text": [
      "4\n",
      "even\n"
     ]
    }
   ],
   "source": [
    "D = [2, \"even\", \"odd\"]\n",
    "I = [\"input\", \"toint\", \"load\", \"0\", \"mod_two\", \"jump_if\", \"8\", \"12\", \"load\", \"1\", \"jump\", \"14\", \"load\", \"2\", \"print\"]\n",
    "calc(D, I)"
   ]
  },
  {
   "cell_type": "code",
   "execution_count": 228,
   "id": "365b80f0",
   "metadata": {},
   "outputs": [
    {
     "name": "stdout",
     "output_type": "stream",
     "text": [
      "5\n",
      "odd\n"
     ]
    }
   ],
   "source": [
    "D = [2, \"even\", \"odd\"]\n",
    "I = [\"input\", \"toint\", \"load\", \"0\", \"mod_two\", \"jump_if\", \"8\", \"12\", \"load\", \"1\", \"jump\", \"14\", \"load\", \"2\", \"print\"]\n",
    "calc(D, I)"
   ]
  }
 ],
 "metadata": {
  "kernelspec": {
   "display_name": "Python 3 (ipykernel)",
   "language": "python",
   "name": "python3"
  },
  "language_info": {
   "codemirror_mode": {
    "name": "ipython",
    "version": 3
   },
   "file_extension": ".py",
   "mimetype": "text/x-python",
   "name": "python",
   "nbconvert_exporter": "python",
   "pygments_lexer": "ipython3",
   "version": "3.9.7"
  }
 },
 "nbformat": 4,
 "nbformat_minor": 5
}
